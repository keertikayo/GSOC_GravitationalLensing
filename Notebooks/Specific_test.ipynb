{
 "cells": [
  {
   "cell_type": "code",
   "execution_count": 164,
   "id": "4fb8f48c-d218-4373-ba87-011686ffc4fa",
   "metadata": {},
   "outputs": [],
   "source": [
    "import tensorflow as tf\n",
    "from tensorflow import keras\n",
    "from tensorflow.keras import layers\n",
    "from tensorflow.keras.preprocessing.image import ImageDataGenerator\n",
    "import numpy as np\n",
    "import matplotlib.pyplot as plt\n",
    "from sklearn.utils.class_weight import compute_class_weight\n",
    "from sklearn.metrics import confusion_matrix, roc_curve, auc\n",
    "import os"
   ]
  },
  {
   "cell_type": "code",
   "execution_count": 167,
   "id": "b861c4ca-cb42-4a30-9d46-9ec103438620",
   "metadata": {},
   "outputs": [],
   "source": [
    "def load_data_from_folder(folder, label):\n",
    "    X = []\n",
    "    y = []\n",
    "    \n",
    "    for file in os.listdir(folder):\n",
    "        if file.endswith(\".npy\"):\n",
    "            file_path = os.path.join(folder, file)\n",
    "            data = np.load(file_path)  #shape(3,64,64)\n",
    "\n",
    "            if data.shape == (3, 64, 64):  # Ensure correct shape\n",
    "                data = np.transpose(data, (1, 2, 0)) #shape(64,64,3)\n",
    "                X.append(data)\n",
    "                y.append(label)\n",
    "    return np.array(X, dtype=np.float32), np.array(y, dtype=np.int32)"
   ]
  },
  {
   "cell_type": "code",
   "execution_count": 168,
   "id": "dbd8930a-7cec-4b73-8dd2-55a66a39783b",
   "metadata": {},
   "outputs": [],
   "source": [
    "#path directories of the dataset\n",
    "current_dir = os.getcwd()\n",
    "parent_dir = os.path.dirname(current_dir)\n",
    "\n",
    "train_lenses_dir = os.path.join(parent_dir, 'lens-finding-test', 'train_lenses')\n",
    "train_nonlenses_dir = os.path.join(parent_dir, 'lens-finding-test', 'train_nonlenses')\n",
    "test_lenses_dir = os.path.join(parent_dir, 'lens-finding-test', 'test_lenses')\n",
    "test_nonlenses_dir = os.path.join(parent_dir, 'lens-finding-test', 'test_nonlenses')"
   ]
  },
  {
   "cell_type": "code",
   "execution_count": 170,
   "id": "96b10e27-94f4-4d77-9e02-e4912536ebc4",
   "metadata": {},
   "outputs": [],
   "source": [
    "#getting data from dataset\n",
    "X_train_lensed, y_train_lensed = load_data_from_folder(train_lenses_dir, 1) #label 1 for lensed\n",
    "X_train_nonlensed, y_train_nonlensed = load_data_from_folder(train_nonlenses_dir, 0) #label 0 for non lensed\n",
    "\n",
    "X_test_lensed, y_test_lensed = load_data_from_folder(test_lenses_dir, 1)\n",
    "X_test_nonlensed, y_test_nonlensed = load_data_from_folder(test_nonlenses_dir, 0)\n"
   ]
  },
  {
   "cell_type": "code",
   "execution_count": 213,
   "id": "9fa58b19-04cd-4c0a-9fdc-d09445f7b72e",
   "metadata": {},
   "outputs": [
    {
     "data": {
      "text/plain": [
       "(28675, 64, 64, 3)"
      ]
     },
     "execution_count": 213,
     "metadata": {},
     "output_type": "execute_result"
    }
   ],
   "source": [
    "X_train_nonlensed.shape"
   ]
  },
  {
   "cell_type": "code",
   "execution_count": 172,
   "id": "f27c9dd5-b5b3-4b1d-9a2f-67f9233cca35",
   "metadata": {},
   "outputs": [],
   "source": [
    "X_train = np.concatenate([X_train_lensed, X_train_nonlensed], axis=0)\n",
    "y_train = np.concatenate([y_train_lensed, y_train_nonlensed], axis=0)"
   ]
  },
  {
   "cell_type": "code",
   "execution_count": 173,
   "id": "9fddfa01-b1ca-4f9a-9c20-d80de28cde41",
   "metadata": {},
   "outputs": [],
   "source": [
    "def oversample(X_minority, y_minority, target_size):\n",
    "    current_size = len(X_minority)\n",
    "    if current_size >= target_size:\n",
    "        return X_minority, y_minority  # No need to oversample\n",
    "\n",
    "    # Randomly duplicate samples\n",
    "    indices = np.random.choice(current_size, size=(target_size - current_size), replace=True)\n",
    "    X_oversampled = np.concatenate([X_minority, X_minority[indices]])\n",
    "    y_oversampled = np.concatenate([y_minority, y_minority[indices]])\n",
    "\n",
    "    return X_oversampled, y_oversampled"
   ]
  },
  {
   "cell_type": "code",
   "execution_count": 176,
   "id": "086049b9-633e-4bae-895b-3001cc06dd61",
   "metadata": {},
   "outputs": [],
   "source": [
    "target_size = len(X_train_nonlensed) #calculating target size for train data"
   ]
  },
  {
   "cell_type": "code",
   "execution_count": 177,
   "id": "d587e2c5-2033-457b-b37b-25a77b601056",
   "metadata": {},
   "outputs": [],
   "source": [
    "# oversampling of minority class in train data\n",
    "X_lensed_resampled, y_lensed_resampled = oversample(X_train_lensed, y_train_lensed, target_size)"
   ]
  },
  {
   "cell_type": "code",
   "execution_count": 178,
   "id": "8c958944-428e-4828-874c-efd8afaf0821",
   "metadata": {},
   "outputs": [],
   "source": [
    "# combine train data\n",
    "X_balanced = np.concatenate([X_lensed_resampled, X_train_nonlensed])\n",
    "y_balanced = np.concatenate([y_lensed_resampled, y_train_nonlensed])"
   ]
  },
  {
   "cell_type": "code",
   "execution_count": 204,
   "id": "afb86eed-f602-4d52-aa3f-73d82f44a420",
   "metadata": {},
   "outputs": [],
   "source": [
    "# combine test data\n",
    "X_test = np.concatenate([X_test_lensed, X_test_nonlensed])\n",
    "y_test = np.concatenate([y_test_lensed, y_test_nonlensed])"
   ]
  },
  {
   "cell_type": "code",
   "execution_count": 205,
   "id": "352b7577-acc2-48f0-a142-f478e92a6a02",
   "metadata": {},
   "outputs": [
    {
     "data": {
      "text/plain": [
       "(19650, 64, 64, 3)"
      ]
     },
     "execution_count": 205,
     "metadata": {},
     "output_type": "execute_result"
    }
   ],
   "source": [
    "X_test.shape"
   ]
  },
  {
   "cell_type": "code",
   "execution_count": 179,
   "id": "2bd3d420-a293-4024-98e3-09a1b264de9f",
   "metadata": {},
   "outputs": [],
   "source": [
    "#making batches of data to avoid RAM crash\n",
    "def data_generator(X, y, batch_size=64):\n",
    "    num_samples = len(y)\n",
    "    indices = np.arange(num_samples)\n",
    "\n",
    "    while True:  \n",
    "        np.random.shuffle(indices)  \n",
    "        for start in range(0, num_samples, batch_size):\n",
    "            end = min(start + batch_size, num_samples)\n",
    "            batch_indices = indices[start:end]\n",
    "            yield X[batch_indices], y[batch_indices]"
   ]
  },
  {
   "cell_type": "code",
   "execution_count": 180,
   "id": "97c27a39-696e-448b-a422-fd13ed4872d9",
   "metadata": {},
   "outputs": [],
   "source": [
    "#shuffling train data\n",
    "indices = np.random.permutation(len(y_train))\n",
    "X_train, y_train = X_balanced[indices], y_balanced[indices]"
   ]
  },
  {
   "cell_type": "code",
   "execution_count": 181,
   "id": "842ab30e-5b19-47f4-bd08-d3274307cfc0",
   "metadata": {},
   "outputs": [],
   "source": [
    "#splitting in train and validation data\n",
    "split_ratio = 0.9\n",
    "split_index = int(len(y_train) * split_ratio)\n",
    "\n",
    "X_train, X_val = X_train[:split_index], X_train[split_index:]\n",
    "y_train, y_val = y_train[:split_index], y_train[split_index:]"
   ]
  },
  {
   "cell_type": "code",
   "execution_count": 182,
   "id": "1c5554f0-4300-41d2-a42e-22a1bcca4e7c",
   "metadata": {},
   "outputs": [],
   "source": [
    "train_generator = data_generator(X_train, y_train, 32)\n",
    "val_generator = data_generator(X_val, y_val, 32)"
   ]
  },
  {
   "cell_type": "code",
   "execution_count": 183,
   "id": "06b2f068-635f-4758-b4bf-7d6359e1abea",
   "metadata": {},
   "outputs": [
    {
     "name": "stderr",
     "output_type": "stream",
     "text": [
      "/Users/keertika/Desktop/GSOC/venv/lib/python3.12/site-packages/keras/src/layers/convolutional/base_conv.py:107: UserWarning: Do not pass an `input_shape`/`input_dim` argument to a layer. When using Sequential models, prefer using an `Input(shape)` object as the first layer in the model instead.\n",
      "  super().__init__(activity_regularizer=activity_regularizer, **kwargs)\n"
     ]
    }
   ],
   "source": [
    "#defining model\n",
    "model = keras.Sequential([\n",
    "    layers.Conv2D(32, (3,3), activation='relu', input_shape=(64, 64, 3)),\n",
    "    layers.MaxPooling2D(2,2),\n",
    "\n",
    "    layers.Conv2D(64, (3,3), activation='relu'),\n",
    "    layers.MaxPooling2D(2,2),\n",
    "\n",
    "    layers.Conv2D(128, (3,3), activation='relu'),\n",
    "    layers.MaxPooling2D(2,2),\n",
    "\n",
    "    layers.Flatten(),\n",
    "    layers.Dense(128, activation='relu'),\n",
    "    layers.Dropout(0.5),\n",
    "    layers.Dense(1, activation='sigmoid')\n",
    "])\n"
   ]
  },
  {
   "cell_type": "code",
   "execution_count": 184,
   "id": "8004e241-84a5-44c9-b648-5e651b655c7f",
   "metadata": {},
   "outputs": [],
   "source": [
    "from tensorflow.keras import backend as K\n",
    "\n",
    "#defining a function to compute f1 score\n",
    "def f1_score(y_true, y_pred):\n",
    "    y_true = K.cast(y_true, \"float32\")  \n",
    "    y_pred = K.round(y_pred)  #convert probabilities to binary \n",
    "    \n",
    "    tp = K.sum(y_true * y_pred)  #true positive\n",
    "    fp = K.sum((1 - y_true) * y_pred)  #false positive\n",
    "    fn = K.sum(y_true * (1 - y_pred))  #false negative\n",
    "\n",
    "    precision = tp / (tp + fp + K.epsilon())  #avoid division by zero\n",
    "    recall = tp / (tp + fn + K.epsilon())\n",
    "\n",
    "    f1 = 2 * (precision * recall) / (precision + recall + K.epsilon())\n",
    "    return f1"
   ]
  },
  {
   "cell_type": "code",
   "execution_count": 185,
   "id": "fb1fd10b-4b73-4fb1-af18-2b2e65ad515e",
   "metadata": {},
   "outputs": [
    {
     "data": {
      "text/html": [
       "<pre style=\"white-space:pre;overflow-x:auto;line-height:normal;font-family:Menlo,'DejaVu Sans Mono',consolas,'Courier New',monospace\"><span style=\"font-weight: bold\">Model: \"sequential_4\"</span>\n",
       "</pre>\n"
      ],
      "text/plain": [
       "\u001b[1mModel: \"sequential_4\"\u001b[0m\n"
      ]
     },
     "metadata": {},
     "output_type": "display_data"
    },
    {
     "data": {
      "text/html": [
       "<pre style=\"white-space:pre;overflow-x:auto;line-height:normal;font-family:Menlo,'DejaVu Sans Mono',consolas,'Courier New',monospace\">┏━━━━━━━━━━━━━━━━━━━━━━━━━━━━━━━━━┳━━━━━━━━━━━━━━━━━━━━━━━━┳━━━━━━━━━━━━━━━┓\n",
       "┃<span style=\"font-weight: bold\"> Layer (type)                    </span>┃<span style=\"font-weight: bold\"> Output Shape           </span>┃<span style=\"font-weight: bold\">       Param # </span>┃\n",
       "┡━━━━━━━━━━━━━━━━━━━━━━━━━━━━━━━━━╇━━━━━━━━━━━━━━━━━━━━━━━━╇━━━━━━━━━━━━━━━┩\n",
       "│ conv2d_12 (<span style=\"color: #0087ff; text-decoration-color: #0087ff\">Conv2D</span>)              │ (<span style=\"color: #00d7ff; text-decoration-color: #00d7ff\">None</span>, <span style=\"color: #00af00; text-decoration-color: #00af00\">62</span>, <span style=\"color: #00af00; text-decoration-color: #00af00\">62</span>, <span style=\"color: #00af00; text-decoration-color: #00af00\">32</span>)     │           <span style=\"color: #00af00; text-decoration-color: #00af00\">896</span> │\n",
       "├─────────────────────────────────┼────────────────────────┼───────────────┤\n",
       "│ max_pooling2d_12 (<span style=\"color: #0087ff; text-decoration-color: #0087ff\">MaxPooling2D</span>) │ (<span style=\"color: #00d7ff; text-decoration-color: #00d7ff\">None</span>, <span style=\"color: #00af00; text-decoration-color: #00af00\">31</span>, <span style=\"color: #00af00; text-decoration-color: #00af00\">31</span>, <span style=\"color: #00af00; text-decoration-color: #00af00\">32</span>)     │             <span style=\"color: #00af00; text-decoration-color: #00af00\">0</span> │\n",
       "├─────────────────────────────────┼────────────────────────┼───────────────┤\n",
       "│ conv2d_13 (<span style=\"color: #0087ff; text-decoration-color: #0087ff\">Conv2D</span>)              │ (<span style=\"color: #00d7ff; text-decoration-color: #00d7ff\">None</span>, <span style=\"color: #00af00; text-decoration-color: #00af00\">29</span>, <span style=\"color: #00af00; text-decoration-color: #00af00\">29</span>, <span style=\"color: #00af00; text-decoration-color: #00af00\">64</span>)     │        <span style=\"color: #00af00; text-decoration-color: #00af00\">18,496</span> │\n",
       "├─────────────────────────────────┼────────────────────────┼───────────────┤\n",
       "│ max_pooling2d_13 (<span style=\"color: #0087ff; text-decoration-color: #0087ff\">MaxPooling2D</span>) │ (<span style=\"color: #00d7ff; text-decoration-color: #00d7ff\">None</span>, <span style=\"color: #00af00; text-decoration-color: #00af00\">14</span>, <span style=\"color: #00af00; text-decoration-color: #00af00\">14</span>, <span style=\"color: #00af00; text-decoration-color: #00af00\">64</span>)     │             <span style=\"color: #00af00; text-decoration-color: #00af00\">0</span> │\n",
       "├─────────────────────────────────┼────────────────────────┼───────────────┤\n",
       "│ conv2d_14 (<span style=\"color: #0087ff; text-decoration-color: #0087ff\">Conv2D</span>)              │ (<span style=\"color: #00d7ff; text-decoration-color: #00d7ff\">None</span>, <span style=\"color: #00af00; text-decoration-color: #00af00\">12</span>, <span style=\"color: #00af00; text-decoration-color: #00af00\">12</span>, <span style=\"color: #00af00; text-decoration-color: #00af00\">128</span>)    │        <span style=\"color: #00af00; text-decoration-color: #00af00\">73,856</span> │\n",
       "├─────────────────────────────────┼────────────────────────┼───────────────┤\n",
       "│ max_pooling2d_14 (<span style=\"color: #0087ff; text-decoration-color: #0087ff\">MaxPooling2D</span>) │ (<span style=\"color: #00d7ff; text-decoration-color: #00d7ff\">None</span>, <span style=\"color: #00af00; text-decoration-color: #00af00\">6</span>, <span style=\"color: #00af00; text-decoration-color: #00af00\">6</span>, <span style=\"color: #00af00; text-decoration-color: #00af00\">128</span>)      │             <span style=\"color: #00af00; text-decoration-color: #00af00\">0</span> │\n",
       "├─────────────────────────────────┼────────────────────────┼───────────────┤\n",
       "│ flatten_4 (<span style=\"color: #0087ff; text-decoration-color: #0087ff\">Flatten</span>)             │ (<span style=\"color: #00d7ff; text-decoration-color: #00d7ff\">None</span>, <span style=\"color: #00af00; text-decoration-color: #00af00\">4608</span>)           │             <span style=\"color: #00af00; text-decoration-color: #00af00\">0</span> │\n",
       "├─────────────────────────────────┼────────────────────────┼───────────────┤\n",
       "│ dense_8 (<span style=\"color: #0087ff; text-decoration-color: #0087ff\">Dense</span>)                 │ (<span style=\"color: #00d7ff; text-decoration-color: #00d7ff\">None</span>, <span style=\"color: #00af00; text-decoration-color: #00af00\">128</span>)            │       <span style=\"color: #00af00; text-decoration-color: #00af00\">589,952</span> │\n",
       "├─────────────────────────────────┼────────────────────────┼───────────────┤\n",
       "│ dropout_4 (<span style=\"color: #0087ff; text-decoration-color: #0087ff\">Dropout</span>)             │ (<span style=\"color: #00d7ff; text-decoration-color: #00d7ff\">None</span>, <span style=\"color: #00af00; text-decoration-color: #00af00\">128</span>)            │             <span style=\"color: #00af00; text-decoration-color: #00af00\">0</span> │\n",
       "├─────────────────────────────────┼────────────────────────┼───────────────┤\n",
       "│ dense_9 (<span style=\"color: #0087ff; text-decoration-color: #0087ff\">Dense</span>)                 │ (<span style=\"color: #00d7ff; text-decoration-color: #00d7ff\">None</span>, <span style=\"color: #00af00; text-decoration-color: #00af00\">1</span>)              │           <span style=\"color: #00af00; text-decoration-color: #00af00\">129</span> │\n",
       "└─────────────────────────────────┴────────────────────────┴───────────────┘\n",
       "</pre>\n"
      ],
      "text/plain": [
       "┏━━━━━━━━━━━━━━━━━━━━━━━━━━━━━━━━━┳━━━━━━━━━━━━━━━━━━━━━━━━┳━━━━━━━━━━━━━━━┓\n",
       "┃\u001b[1m \u001b[0m\u001b[1mLayer (type)                   \u001b[0m\u001b[1m \u001b[0m┃\u001b[1m \u001b[0m\u001b[1mOutput Shape          \u001b[0m\u001b[1m \u001b[0m┃\u001b[1m \u001b[0m\u001b[1m      Param #\u001b[0m\u001b[1m \u001b[0m┃\n",
       "┡━━━━━━━━━━━━━━━━━━━━━━━━━━━━━━━━━╇━━━━━━━━━━━━━━━━━━━━━━━━╇━━━━━━━━━━━━━━━┩\n",
       "│ conv2d_12 (\u001b[38;5;33mConv2D\u001b[0m)              │ (\u001b[38;5;45mNone\u001b[0m, \u001b[38;5;34m62\u001b[0m, \u001b[38;5;34m62\u001b[0m, \u001b[38;5;34m32\u001b[0m)     │           \u001b[38;5;34m896\u001b[0m │\n",
       "├─────────────────────────────────┼────────────────────────┼───────────────┤\n",
       "│ max_pooling2d_12 (\u001b[38;5;33mMaxPooling2D\u001b[0m) │ (\u001b[38;5;45mNone\u001b[0m, \u001b[38;5;34m31\u001b[0m, \u001b[38;5;34m31\u001b[0m, \u001b[38;5;34m32\u001b[0m)     │             \u001b[38;5;34m0\u001b[0m │\n",
       "├─────────────────────────────────┼────────────────────────┼───────────────┤\n",
       "│ conv2d_13 (\u001b[38;5;33mConv2D\u001b[0m)              │ (\u001b[38;5;45mNone\u001b[0m, \u001b[38;5;34m29\u001b[0m, \u001b[38;5;34m29\u001b[0m, \u001b[38;5;34m64\u001b[0m)     │        \u001b[38;5;34m18,496\u001b[0m │\n",
       "├─────────────────────────────────┼────────────────────────┼───────────────┤\n",
       "│ max_pooling2d_13 (\u001b[38;5;33mMaxPooling2D\u001b[0m) │ (\u001b[38;5;45mNone\u001b[0m, \u001b[38;5;34m14\u001b[0m, \u001b[38;5;34m14\u001b[0m, \u001b[38;5;34m64\u001b[0m)     │             \u001b[38;5;34m0\u001b[0m │\n",
       "├─────────────────────────────────┼────────────────────────┼───────────────┤\n",
       "│ conv2d_14 (\u001b[38;5;33mConv2D\u001b[0m)              │ (\u001b[38;5;45mNone\u001b[0m, \u001b[38;5;34m12\u001b[0m, \u001b[38;5;34m12\u001b[0m, \u001b[38;5;34m128\u001b[0m)    │        \u001b[38;5;34m73,856\u001b[0m │\n",
       "├─────────────────────────────────┼────────────────────────┼───────────────┤\n",
       "│ max_pooling2d_14 (\u001b[38;5;33mMaxPooling2D\u001b[0m) │ (\u001b[38;5;45mNone\u001b[0m, \u001b[38;5;34m6\u001b[0m, \u001b[38;5;34m6\u001b[0m, \u001b[38;5;34m128\u001b[0m)      │             \u001b[38;5;34m0\u001b[0m │\n",
       "├─────────────────────────────────┼────────────────────────┼───────────────┤\n",
       "│ flatten_4 (\u001b[38;5;33mFlatten\u001b[0m)             │ (\u001b[38;5;45mNone\u001b[0m, \u001b[38;5;34m4608\u001b[0m)           │             \u001b[38;5;34m0\u001b[0m │\n",
       "├─────────────────────────────────┼────────────────────────┼───────────────┤\n",
       "│ dense_8 (\u001b[38;5;33mDense\u001b[0m)                 │ (\u001b[38;5;45mNone\u001b[0m, \u001b[38;5;34m128\u001b[0m)            │       \u001b[38;5;34m589,952\u001b[0m │\n",
       "├─────────────────────────────────┼────────────────────────┼───────────────┤\n",
       "│ dropout_4 (\u001b[38;5;33mDropout\u001b[0m)             │ (\u001b[38;5;45mNone\u001b[0m, \u001b[38;5;34m128\u001b[0m)            │             \u001b[38;5;34m0\u001b[0m │\n",
       "├─────────────────────────────────┼────────────────────────┼───────────────┤\n",
       "│ dense_9 (\u001b[38;5;33mDense\u001b[0m)                 │ (\u001b[38;5;45mNone\u001b[0m, \u001b[38;5;34m1\u001b[0m)              │           \u001b[38;5;34m129\u001b[0m │\n",
       "└─────────────────────────────────┴────────────────────────┴───────────────┘\n"
      ]
     },
     "metadata": {},
     "output_type": "display_data"
    },
    {
     "data": {
      "text/html": [
       "<pre style=\"white-space:pre;overflow-x:auto;line-height:normal;font-family:Menlo,'DejaVu Sans Mono',consolas,'Courier New',monospace\"><span style=\"font-weight: bold\"> Total params: </span><span style=\"color: #00af00; text-decoration-color: #00af00\">683,329</span> (2.61 MB)\n",
       "</pre>\n"
      ],
      "text/plain": [
       "\u001b[1m Total params: \u001b[0m\u001b[38;5;34m683,329\u001b[0m (2.61 MB)\n"
      ]
     },
     "metadata": {},
     "output_type": "display_data"
    },
    {
     "data": {
      "text/html": [
       "<pre style=\"white-space:pre;overflow-x:auto;line-height:normal;font-family:Menlo,'DejaVu Sans Mono',consolas,'Courier New',monospace\"><span style=\"font-weight: bold\"> Trainable params: </span><span style=\"color: #00af00; text-decoration-color: #00af00\">683,329</span> (2.61 MB)\n",
       "</pre>\n"
      ],
      "text/plain": [
       "\u001b[1m Trainable params: \u001b[0m\u001b[38;5;34m683,329\u001b[0m (2.61 MB)\n"
      ]
     },
     "metadata": {},
     "output_type": "display_data"
    },
    {
     "data": {
      "text/html": [
       "<pre style=\"white-space:pre;overflow-x:auto;line-height:normal;font-family:Menlo,'DejaVu Sans Mono',consolas,'Courier New',monospace\"><span style=\"font-weight: bold\"> Non-trainable params: </span><span style=\"color: #00af00; text-decoration-color: #00af00\">0</span> (0.00 B)\n",
       "</pre>\n"
      ],
      "text/plain": [
       "\u001b[1m Non-trainable params: \u001b[0m\u001b[38;5;34m0\u001b[0m (0.00 B)\n"
      ]
     },
     "metadata": {},
     "output_type": "display_data"
    }
   ],
   "source": [
    "\n",
    "from tensorflow.keras.optimizers import Adam\n",
    "\n",
    "optimizer = Adam(learning_rate=0.0001)  \n",
    "model.compile(optimizer=optimizer, loss=\"binary_crossentropy\", metrics=[\"AUC\", f1_score])\n",
    "model.summary()"
   ]
  },
  {
   "cell_type": "code",
   "execution_count": 186,
   "id": "04d3f67f-c659-4f3c-85af-334cdd027c70",
   "metadata": {},
   "outputs": [
    {
     "name": "stdout",
     "output_type": "stream",
     "text": [
      "Epoch 1/30\n",
      "\u001b[1m855/855\u001b[0m \u001b[32m━━━━━━━━━━━━━━━━━━━━\u001b[0m\u001b[37m\u001b[0m \u001b[1m34s\u001b[0m 39ms/step - AUC: 0.7703 - f1_score: 0.9627 - loss: 0.2059 - val_AUC: 0.9421 - val_f1_score: 0.9606 - val_loss: 0.0945\n",
      "Epoch 2/30\n",
      "\u001b[1m855/855\u001b[0m \u001b[32m━━━━━━━━━━━━━━━━━━━━\u001b[0m\u001b[37m\u001b[0m \u001b[1m35s\u001b[0m 41ms/step - AUC: 0.9395 - f1_score: 0.9515 - loss: 0.1067 - val_AUC: 0.9533 - val_f1_score: 0.9555 - val_loss: 0.0780\n",
      "Epoch 3/30\n",
      "\u001b[1m855/855\u001b[0m \u001b[32m━━━━━━━━━━━━━━━━━━━━\u001b[0m\u001b[37m\u001b[0m \u001b[1m33s\u001b[0m 38ms/step - AUC: 0.9515 - f1_score: 0.9515 - loss: 0.0877 - val_AUC: 0.9514 - val_f1_score: 0.9490 - val_loss: 0.0801\n",
      "Epoch 4/30\n",
      "\u001b[1m855/855\u001b[0m \u001b[32m━━━━━━━━━━━━━━━━━━━━\u001b[0m\u001b[37m\u001b[0m \u001b[1m33s\u001b[0m 39ms/step - AUC: 0.9617 - f1_score: 0.9483 - loss: 0.0790 - val_AUC: 0.9534 - val_f1_score: 0.9542 - val_loss: 0.0692\n",
      "Epoch 5/30\n",
      "\u001b[1m855/855\u001b[0m \u001b[32m━━━━━━━━━━━━━━━━━━━━\u001b[0m\u001b[37m\u001b[0m \u001b[1m32s\u001b[0m 38ms/step - AUC: 0.9674 - f1_score: 0.9462 - loss: 0.0713 - val_AUC: 0.9606 - val_f1_score: 0.9565 - val_loss: 0.0674\n",
      "Epoch 6/30\n",
      "\u001b[1m855/855\u001b[0m \u001b[32m━━━━━━━━━━━━━━━━━━━━\u001b[0m\u001b[37m\u001b[0m \u001b[1m33s\u001b[0m 38ms/step - AUC: 0.9698 - f1_score: 0.9501 - loss: 0.0649 - val_AUC: 0.9631 - val_f1_score: 0.9559 - val_loss: 0.0572\n",
      "Epoch 7/30\n",
      "\u001b[1m855/855\u001b[0m \u001b[32m━━━━━━━━━━━━━━━━━━━━\u001b[0m\u001b[37m\u001b[0m \u001b[1m33s\u001b[0m 38ms/step - AUC: 0.9653 - f1_score: 0.9487 - loss: 0.0648 - val_AUC: 0.9640 - val_f1_score: 0.9494 - val_loss: 0.0532\n",
      "Epoch 8/30\n",
      "\u001b[1m855/855\u001b[0m \u001b[32m━━━━━━━━━━━━━━━━━━━━\u001b[0m\u001b[37m\u001b[0m \u001b[1m33s\u001b[0m 38ms/step - AUC: 0.9750 - f1_score: 0.9464 - loss: 0.0534 - val_AUC: 0.9732 - val_f1_score: 0.9571 - val_loss: 0.0495\n",
      "Epoch 9/30\n",
      "\u001b[1m855/855\u001b[0m \u001b[32m━━━━━━━━━━━━━━━━━━━━\u001b[0m\u001b[37m\u001b[0m \u001b[1m34s\u001b[0m 40ms/step - AUC: 0.9762 - f1_score: 0.9466 - loss: 0.0505 - val_AUC: 0.9762 - val_f1_score: 0.9508 - val_loss: 0.0495\n",
      "Epoch 10/30\n",
      "\u001b[1m855/855\u001b[0m \u001b[32m━━━━━━━━━━━━━━━━━━━━\u001b[0m\u001b[37m\u001b[0m \u001b[1m36s\u001b[0m 42ms/step - AUC: 0.9764 - f1_score: 0.9476 - loss: 0.0474 - val_AUC: 0.9751 - val_f1_score: 0.9552 - val_loss: 0.0394\n",
      "Epoch 11/30\n",
      "\u001b[1m855/855\u001b[0m \u001b[32m━━━━━━━━━━━━━━━━━━━━\u001b[0m\u001b[37m\u001b[0m \u001b[1m34s\u001b[0m 39ms/step - AUC: 0.9757 - f1_score: 0.9484 - loss: 0.0472 - val_AUC: 0.9808 - val_f1_score: 0.9512 - val_loss: 0.0459\n",
      "Epoch 12/30\n",
      "\u001b[1m855/855\u001b[0m \u001b[32m━━━━━━━━━━━━━━━━━━━━\u001b[0m\u001b[37m\u001b[0m \u001b[1m37s\u001b[0m 43ms/step - AUC: 0.9843 - f1_score: 0.9497 - loss: 0.0359 - val_AUC: 0.9821 - val_f1_score: 0.9496 - val_loss: 0.0409\n",
      "Epoch 13/30\n",
      "\u001b[1m855/855\u001b[0m \u001b[32m━━━━━━━━━━━━━━━━━━━━\u001b[0m\u001b[37m\u001b[0m \u001b[1m36s\u001b[0m 42ms/step - AUC: 0.9866 - f1_score: 0.9481 - loss: 0.0331 - val_AUC: 0.9728 - val_f1_score: 0.9542 - val_loss: 0.0370\n",
      "Epoch 14/30\n",
      "\u001b[1m855/855\u001b[0m \u001b[32m━━━━━━━━━━━━━━━━━━━━\u001b[0m\u001b[37m\u001b[0m \u001b[1m36s\u001b[0m 42ms/step - AUC: 0.9858 - f1_score: 0.9471 - loss: 0.0320 - val_AUC: 0.9812 - val_f1_score: 0.9535 - val_loss: 0.0340\n",
      "Epoch 15/30\n",
      "\u001b[1m855/855\u001b[0m \u001b[32m━━━━━━━━━━━━━━━━━━━━\u001b[0m\u001b[37m\u001b[0m \u001b[1m36s\u001b[0m 42ms/step - AUC: 0.9866 - f1_score: 0.9446 - loss: 0.0314 - val_AUC: 0.9887 - val_f1_score: 0.9503 - val_loss: 0.0277\n",
      "Epoch 16/30\n",
      "\u001b[1m855/855\u001b[0m \u001b[32m━━━━━━━━━━━━━━━━━━━━\u001b[0m\u001b[37m\u001b[0m \u001b[1m35s\u001b[0m 41ms/step - AUC: 0.9884 - f1_score: 0.9457 - loss: 0.0275 - val_AUC: 0.9684 - val_f1_score: 0.9542 - val_loss: 0.0380\n",
      "Epoch 17/30\n",
      "\u001b[1m855/855\u001b[0m \u001b[32m━━━━━━━━━━━━━━━━━━━━\u001b[0m\u001b[37m\u001b[0m \u001b[1m37s\u001b[0m 44ms/step - AUC: 0.9914 - f1_score: 0.9481 - loss: 0.0224 - val_AUC: 0.9784 - val_f1_score: 0.9496 - val_loss: 0.0358\n",
      "Epoch 18/30\n",
      "\u001b[1m855/855\u001b[0m \u001b[32m━━━━━━━━━━━━━━━━━━━━\u001b[0m\u001b[37m\u001b[0m \u001b[1m36s\u001b[0m 43ms/step - AUC: 0.9908 - f1_score: 0.9450 - loss: 0.0259 - val_AUC: 0.9805 - val_f1_score: 0.9532 - val_loss: 0.0331\n",
      "Epoch 19/30\n",
      "\u001b[1m855/855\u001b[0m \u001b[32m━━━━━━━━━━━━━━━━━━━━\u001b[0m\u001b[37m\u001b[0m \u001b[1m37s\u001b[0m 43ms/step - AUC: 0.9909 - f1_score: 0.9450 - loss: 0.0235 - val_AUC: 0.9877 - val_f1_score: 0.9506 - val_loss: 0.0254\n",
      "Epoch 20/30\n",
      "\u001b[1m855/855\u001b[0m \u001b[32m━━━━━━━━━━━━━━━━━━━━\u001b[0m\u001b[37m\u001b[0m \u001b[1m37s\u001b[0m 43ms/step - AUC: 0.9928 - f1_score: 0.9475 - loss: 0.0198 - val_AUC: 0.9833 - val_f1_score: 0.9545 - val_loss: 0.0310\n",
      "Epoch 21/30\n",
      "\u001b[1m855/855\u001b[0m \u001b[32m━━━━━━━━━━━━━━━━━━━━\u001b[0m\u001b[37m\u001b[0m \u001b[1m36s\u001b[0m 42ms/step - AUC: 0.9881 - f1_score: 0.9440 - loss: 0.0248 - val_AUC: 0.9859 - val_f1_score: 0.9491 - val_loss: 0.0265\n",
      "Epoch 22/30\n",
      "\u001b[1m855/855\u001b[0m \u001b[32m━━━━━━━━━━━━━━━━━━━━\u001b[0m\u001b[37m\u001b[0m \u001b[1m36s\u001b[0m 42ms/step - AUC: 0.9911 - f1_score: 0.9456 - loss: 0.0177 - val_AUC: 0.9845 - val_f1_score: 0.9531 - val_loss: 0.0260\n",
      "Epoch 23/30\n",
      "\u001b[1m855/855\u001b[0m \u001b[32m━━━━━━━━━━━━━━━━━━━━\u001b[0m\u001b[37m\u001b[0m \u001b[1m35s\u001b[0m 41ms/step - AUC: 0.9943 - f1_score: 0.9468 - loss: 0.0175 - val_AUC: 0.9896 - val_f1_score: 0.9498 - val_loss: 0.0240\n",
      "Epoch 24/30\n",
      "\u001b[1m855/855\u001b[0m \u001b[32m━━━━━━━━━━━━━━━━━━━━\u001b[0m\u001b[37m\u001b[0m \u001b[1m34s\u001b[0m 40ms/step - AUC: 0.9954 - f1_score: 0.9439 - loss: 0.0154 - val_AUC: 0.9883 - val_f1_score: 0.9468 - val_loss: 0.0176\n",
      "Epoch 25/30\n",
      "\u001b[1m855/855\u001b[0m \u001b[32m━━━━━━━━━━━━━━━━━━━━\u001b[0m\u001b[37m\u001b[0m \u001b[1m36s\u001b[0m 43ms/step - AUC: 0.9930 - f1_score: 0.9428 - loss: 0.0140 - val_AUC: 0.9769 - val_f1_score: 0.9574 - val_loss: 0.0312\n",
      "Epoch 26/30\n",
      "\u001b[1m855/855\u001b[0m \u001b[32m━━━━━━━━━━━━━━━━━━━━\u001b[0m\u001b[37m\u001b[0m \u001b[1m35s\u001b[0m 41ms/step - AUC: 0.9959 - f1_score: 0.9450 - loss: 0.0136 - val_AUC: 0.9785 - val_f1_score: 0.9483 - val_loss: 0.0266\n",
      "Epoch 27/30\n",
      "\u001b[1m855/855\u001b[0m \u001b[32m━━━━━━━━━━━━━━━━━━━━\u001b[0m\u001b[37m\u001b[0m \u001b[1m36s\u001b[0m 42ms/step - AUC: 0.9950 - f1_score: 0.9439 - loss: 0.0129 - val_AUC: 0.9856 - val_f1_score: 0.9517 - val_loss: 0.0304\n",
      "Epoch 28/30\n",
      "\u001b[1m855/855\u001b[0m \u001b[32m━━━━━━━━━━━━━━━━━━━━\u001b[0m\u001b[37m\u001b[0m \u001b[1m36s\u001b[0m 42ms/step - AUC: 0.9948 - f1_score: 0.9426 - loss: 0.0148 - val_AUC: 0.9780 - val_f1_score: 0.9504 - val_loss: 0.0323\n",
      "Epoch 29/30\n",
      "\u001b[1m855/855\u001b[0m \u001b[32m━━━━━━━━━━━━━━━━━━━━\u001b[0m\u001b[37m\u001b[0m \u001b[1m37s\u001b[0m 44ms/step - AUC: 0.9966 - f1_score: 0.9444 - loss: 0.0103 - val_AUC: 0.9731 - val_f1_score: 0.9518 - val_loss: 0.0265\n",
      "Epoch 30/30\n",
      "\u001b[1m855/855\u001b[0m \u001b[32m━━━━━━━━━━━━━━━━━━━━\u001b[0m\u001b[37m\u001b[0m \u001b[1m36s\u001b[0m 42ms/step - AUC: 0.9964 - f1_score: 0.9434 - loss: 0.0145 - val_AUC: 0.9813 - val_f1_score: 0.9539 - val_loss: 0.0219\n"
     ]
    },
    {
     "data": {
      "text/plain": [
       "<keras.src.callbacks.history.History at 0x14b5b4bc0>"
      ]
     },
     "execution_count": 186,
     "metadata": {},
     "output_type": "execute_result"
    }
   ],
   "source": [
    "train_steps = len(y_train) // 32\n",
    "val_steps = len(y_val) // 32\n",
    "\n",
    "#training of the model\n",
    "model.fit(\n",
    "    train_generator,\n",
    "    steps_per_epoch=train_steps,\n",
    "    validation_data=val_generator,\n",
    "    validation_steps=val_steps,\n",
    "    epochs=30\n",
    ")"
   ]
  },
  {
   "cell_type": "code",
   "execution_count": 206,
   "id": "eebec5c1-a169-4132-bf39-7d746aca8b03",
   "metadata": {},
   "outputs": [
    {
     "name": "stdout",
     "output_type": "stream",
     "text": [
      "\u001b[1m615/615\u001b[0m \u001b[32m━━━━━━━━━━━━━━━━━━━━\u001b[0m\u001b[37m\u001b[0m \u001b[1m7s\u001b[0m 11ms/step\n"
     ]
    }
   ],
   "source": [
    "#getting predictions from trained model\n",
    "y_pred_probs = model.predict(X_test)\n",
    "y_pred_labels = (y_pred_probs > 0.5).astype(int)"
   ]
  },
  {
   "cell_type": "code",
   "execution_count": 210,
   "id": "5d90431b-5595-4af8-bed7-89d6f6506b85",
   "metadata": {},
   "outputs": [],
   "source": [
    "fpr, tpr, _ = roc_curve(y_test, y_pred_probs)\n",
    "roc_auc = auc(fpr, tpr)\n",
    "cm = confusion_matrix(y_test, y_pred_labels)\n",
    "cm_normalized = cm.astype('float') / cm.sum(axis=1, keepdims=True)"
   ]
  },
  {
   "cell_type": "code",
   "execution_count": 211,
   "id": "cf5eeb8c-ea7d-423c-9330-5d04790abed8",
   "metadata": {},
   "outputs": [
    {
     "data": {
      "image/png": "[encoded data removed]",
      "text/plain": [
       "<Figure size 1200x500 with 3 Axes>"
      ]
     },
     "metadata": {},
     "output_type": "display_data"
    }
   ],
   "source": [
    "import seaborn as sns\n",
    "\n",
    "# Create subplots: ROC curve and Confusion Matrix\n",
    "fig, axes = plt.subplots(1, 2, figsize=(12, 5))\n",
    "\n",
    "# Plot ROC Curve\n",
    "axes[0].plot(fpr, tpr, color='darkorange', lw=2, label=f'ROC curve (AUC = {roc_auc:.2f})')\n",
    "axes[0].plot([0, 1], [0, 1], color='navy', lw=2, linestyle='--')\n",
    "axes[0].set_xlabel('False Positive Rate')\n",
    "axes[0].set_ylabel('True Positive Rate')\n",
    "axes[0].set_title('ROC Curve')\n",
    "axes[0].legend(loc='lower right')\n",
    "\n",
    "sns.heatmap(cm_normalized, annot=True, fmt=\".2f\", cmap=\"Blues\", \n",
    "            xticklabels=[\"Non-Lensed\", \"Lensed\"], \n",
    "            yticklabels=[\"Non-Lensed\", \"Lensed\"], ax=axes[1])\n",
    "\n",
    "axes[1].set_xlabel(\"Predicted Label\")\n",
    "axes[1].set_ylabel(\"True Label\")\n",
    "axes[1].set_title(\"Normalized Confusion Matrix\")\n",
    "\n",
    "# Show both plots\n",
    "plt.tight_layout()\n",
    "plt.show()\n",
    "\n"
   ]
  }
 ],
 "metadata": {
  "kernelspec": {
   "display_name": "Python 3 (ipykernel)",
   "language": "python",
   "name": "python3"
  },
  "language_info": {
   "codemirror_mode": {
    "name": "ipython",
    "version": 3
   },
   "file_extension": ".py",
   "mimetype": "text/x-python",
   "name": "python",
   "nbconvert_exporter": "python",
   "pygments_lexer": "ipython3",
   "version": "3.12.3"
  }
 },
 "nbformat": 4,
 "nbformat_minor": 5
}
